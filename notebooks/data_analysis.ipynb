{
 "cells": [
  {
   "cell_type": "markdown",
   "metadata": {},
   "source": [
    "## Data Analysis of Data Source"
   ]
  },
  {
   "cell_type": "markdown",
   "metadata": {
    "pycharm": {
     "name": "#%% md\n"
    }
   },
   "source": [
    "###  Environment Setup\n"
   ]
  },
  {
   "cell_type": "code",
   "execution_count": 1,
   "metadata": {
    "pycharm": {
     "name": "#%%\n"
    }
   },
   "outputs": [],
   "source": [
    "from pyspark.sql import SparkSession\n",
    "from pyspark.sql import functions as F\n",
    "\n",
    "spark = SparkSession.builder.getOrCreate()"
   ]
  },
  {
   "cell_type": "markdown",
   "metadata": {},
   "source": [
    "### Data Import"
   ]
  },
  {
   "cell_type": "code",
   "execution_count": 43,
   "metadata": {
    "pycharm": {
     "name": "#%%\n"
    }
   },
   "outputs": [],
   "source": [
    "filepath = 'data/raw/earthquake_raw.json'\n",
    "\n",
    "raw_df = spark.read\\\n",
    "    .option('multiline', 'true')\\\n",
    "    .option('mode', 'PERMISSIVE')\\\n",
    "    .json(filepath)\n",
    "\n",
    "\n",
    "earth_quake_df = raw_df.withColumn('Exp_RESULTS', F.explode(F.col('features')))\\\n",
    "    .drop('features')\\\n",
    "    .select('Exp_RESULTS.geometry.coordinates',\n",
    "           'Exp_RESULTS.id',\n",
    "           'Exp_RESULTS.properties.*')\n"
   ]
  },
  {
   "cell_type": "markdown",
   "metadata": {
    "pycharm": {
     "name": "#%% md\n"
    }
   },
   "source": [
    "### Data Analysis"
   ]
  },
  {
   "cell_type": "markdown",
   "metadata": {
    "pycharm": {
     "name": "#%% md\n"
    }
   },
   "source": [
    "#### Data Schema"
   ]
  },
  {
   "cell_type": "code",
   "execution_count": 44,
   "metadata": {
    "pycharm": {
     "name": "#%%\n"
    }
   },
   "outputs": [
    {
     "name": "stdout",
     "output_type": "stream",
     "text": [
      "Number of rows: 149\n",
      "Number of columns: 28\n",
      "Columns: \n",
      "coordinates\n",
      "id\n",
      "alert\n",
      "cdi\n",
      "code\n",
      "detail\n",
      "dmin\n",
      "felt\n",
      "gap\n",
      "ids\n",
      "mag\n",
      "magType\n",
      "mmi\n",
      "net\n",
      "nst\n",
      "place\n",
      "rms\n",
      "sig\n",
      "sources\n",
      "status\n",
      "time\n",
      "title\n",
      "tsunami\n",
      "type\n",
      "types\n",
      "tz\n",
      "updated\n",
      "url\n",
      "root\n",
      " |-- coordinates: array (nullable = true)\n",
      " |    |-- element: double (containsNull = true)\n",
      " |-- id: string (nullable = true)\n",
      " |-- alert: string (nullable = true)\n",
      " |-- cdi: double (nullable = true)\n",
      " |-- code: string (nullable = true)\n",
      " |-- detail: string (nullable = true)\n",
      " |-- dmin: double (nullable = true)\n",
      " |-- felt: long (nullable = true)\n",
      " |-- gap: double (nullable = true)\n",
      " |-- ids: string (nullable = true)\n",
      " |-- mag: double (nullable = true)\n",
      " |-- magType: string (nullable = true)\n",
      " |-- mmi: double (nullable = true)\n",
      " |-- net: string (nullable = true)\n",
      " |-- nst: long (nullable = true)\n",
      " |-- place: string (nullable = true)\n",
      " |-- rms: double (nullable = true)\n",
      " |-- sig: long (nullable = true)\n",
      " |-- sources: string (nullable = true)\n",
      " |-- status: string (nullable = true)\n",
      " |-- time: long (nullable = true)\n",
      " |-- title: string (nullable = true)\n",
      " |-- tsunami: long (nullable = true)\n",
      " |-- type: string (nullable = true)\n",
      " |-- types: string (nullable = true)\n",
      " |-- tz: string (nullable = true)\n",
      " |-- updated: long (nullable = true)\n",
      " |-- url: string (nullable = true)\n",
      "\n"
     ]
    }
   ],
   "source": [
    "df_columns = earth_quake_df.columns\n",
    "\n",
    "print('Number of rows: ' + str(earth_quake_df.count()) + '\\n' + 'Number of columns: ' + str(len(df_columns)))\n",
    "print('Columns: ', *df_columns, sep=\"\\n\")\n",
    "\n",
    "earth_quake_df.printSchema()"
   ]
  },
  {
   "cell_type": "markdown",
   "metadata": {
    "pycharm": {
     "name": "#%% md\n"
    }
   },
   "source": [
    "#### Null Values\n"
   ]
  },
  {
   "cell_type": "code",
   "execution_count": 45,
   "metadata": {
    "pycharm": {
     "name": "#%%\n"
    }
   },
   "outputs": [
    {
     "name": "stdout",
     "output_type": "stream",
     "text": [
      "coordinates -> 0\n",
      "id -> 0\n",
      "alert -> 149\n",
      "cdi -> 140\n",
      "code -> 0\n",
      "detail -> 0\n",
      "dmin -> 49\n",
      "felt -> 140\n",
      "gap -> 31\n",
      "ids -> 0\n",
      "mag -> 0\n",
      "magType -> 0\n",
      "mmi -> 148\n",
      "net -> 0\n",
      "nst -> 35\n",
      "place -> 0\n",
      "rms -> 0\n",
      "sig -> 0\n",
      "sources -> 0\n",
      "status -> 0\n",
      "time -> 0\n",
      "title -> 0\n",
      "tsunami -> 0\n",
      "type -> 0\n",
      "types -> 0\n",
      "tz -> 149\n",
      "updated -> 0\n",
      "url -> 0\n"
     ]
    }
   ],
   "source": [
    "null_values = {\n",
    "    col: earth_quake_df.filter(earth_quake_df[col].isNull()).count()\n",
    "    for col in earth_quake_df.columns\n",
    "}\n",
    "\n",
    "for key, value in null_values.items():\n",
    "    print(key, '->', value)"
   ]
  },
  {
   "cell_type": "markdown",
   "metadata": {},
   "source": [
    "#### Duplicates"
   ]
  },
  {
   "cell_type": "code",
   "execution_count": 46,
   "metadata": {
    "pycharm": {
     "name": "#%%\n"
    }
   },
   "outputs": [
    {
     "name": "stdout",
     "output_type": "stream",
     "text": [
      "0\n"
     ]
    }
   ],
   "source": [
    "total_rows = earth_quake_df.count()\n",
    "unique_rows = earth_quake_df.distinct().count()\n",
    "duplicates_rows = total_rows - unique_rows\n",
    "\n",
    "print(duplicates_rows)"
   ]
  },
  {
   "cell_type": "markdown",
   "source": [
    "### Report of Data Analysis\n",
    "\n",
    "#### Steps in data transformation\n",
    "\n",
    "##### Lowercase in columns content\n",
    "- All string columns\n",
    "\n",
    "##### Rename columns name\n",
    "- cdi -> max_intensity\n",
    "- alert -> alert_type\n",
    "- dmin -> epicenter_horizontal_distance\n",
    "- felt -> people_felt_earthquake\n",
    "- gap -> azimuthal_gap\n",
    "- ids -> earthquake_id\n",
    "- mag -> magnitude\n",
    "- magType -> magnitude_type\n",
    "- nst -> nr_seismic_stations\n",
    "- rms -> root_mean_square\n",
    "- sig -> earthquake_impact_estimation\n",
    "\n",
    "##### Split column content\n",
    "- Split array content of coordinates column in new three columns -> longitude, latitude, depth\n",
    "\n",
    "##### Replace Null values\n",
    "- alert -> green\n",
    "- cdi -> 0.0\n",
    "- dmin -> 0.0\n",
    "- gap -> 0.0\n",
    "- nst -> 0\n",
    "- felt -> 0\n",
    "\n",
    "##### Drop columns\n",
    "- code\n",
    "- detail\n",
    "- mmi\n",
    "- net\n",
    "- sources\n",
    "- title\n",
    "- types\n",
    "- tz\n",
    "\n",
    "##### Data type convert\n",
    "- time -> timestamp\n",
    "- updated -> timestamp\n",
    "- felt -> integer\n",
    "- nst -> integer\n",
    "- sig -> integer\n",
    "- tsunami -> integer\n",
    "\n",
    "\n",
    "##### Column content transformation\n",
    "- Convert magType values in:\n",
    "    - md -> duration\n",
    "    - ml -> local\n",
    "    - ms -> surface wave\n",
    "    - mw -> w-phase\n",
    "    - me -> energy\n",
    "    - mi -> p-wave\n",
    "    - mb -> short-period body wave\n",
    "    - mlg -> short-period surface wave"
   ],
   "metadata": {
    "collapsed": false,
    "pycharm": {
     "name": "#%% md\n"
    }
   }
  }
 ],
 "metadata": {
  "kernelspec": {
   "display_name": "Python 3",
   "language": "python",
   "name": "python3"
  },
  "language_info": {
   "codemirror_mode": {
    "name": "ipython",
    "version": 3
   },
   "file_extension": ".py",
   "mimetype": "text/x-python",
   "name": "python",
   "nbconvert_exporter": "python",
   "pygments_lexer": "ipython3",
   "version": "3.8.2"
  }
 },
 "nbformat": 4,
 "nbformat_minor": 1
}