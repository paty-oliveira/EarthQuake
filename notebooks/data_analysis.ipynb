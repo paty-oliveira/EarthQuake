{
 "cells": [
  {
   "cell_type": "markdown",
   "metadata": {},
   "source": [
    "## Data Analysis of Data Source"
   ]
  },
  {
   "cell_type": "markdown",
   "metadata": {
    "pycharm": {
     "name": "#%% md\n"
    }
   },
   "source": [
    "###  Environment Setup\n"
   ]
  },
  {
   "cell_type": "code",
   "execution_count": 1,
   "metadata": {
    "pycharm": {
     "name": "#%%\n"
    }
   },
   "outputs": [],
   "source": [
    "from pyspark.sql import SparkSession\n",
    "from pyspark.sql import functions as F\n",
    "\n",
    "spark = SparkSession.builder.getOrCreate()"
   ]
  },
  {
   "cell_type": "markdown",
   "metadata": {},
   "source": [
    "### Data Import"
   ]
  },
  {
   "cell_type": "code",
   "execution_count": 7,
   "metadata": {
    "pycharm": {
     "name": "#%%\n"
    }
   },
   "outputs": [
    {
     "name": "stdout",
     "output_type": "stream",
     "text": [
      "root\n",
      " |-- bbox: array (nullable = true)\n",
      " |    |-- element: double (containsNull = true)\n",
      " |-- features: array (nullable = true)\n",
      " |    |-- element: struct (containsNull = true)\n",
      " |    |    |-- geometry: struct (nullable = true)\n",
      " |    |    |    |-- coordinates: array (nullable = true)\n",
      " |    |    |    |    |-- element: double (containsNull = true)\n",
      " |    |    |    |-- type: string (nullable = true)\n",
      " |    |    |-- id: string (nullable = true)\n",
      " |    |    |-- properties: struct (nullable = true)\n",
      " |    |    |    |-- alert: string (nullable = true)\n",
      " |    |    |    |-- cdi: double (nullable = true)\n",
      " |    |    |    |-- code: string (nullable = true)\n",
      " |    |    |    |-- detail: string (nullable = true)\n",
      " |    |    |    |-- dmin: double (nullable = true)\n",
      " |    |    |    |-- felt: long (nullable = true)\n",
      " |    |    |    |-- gap: double (nullable = true)\n",
      " |    |    |    |-- ids: string (nullable = true)\n",
      " |    |    |    |-- mag: double (nullable = true)\n",
      " |    |    |    |-- magType: string (nullable = true)\n",
      " |    |    |    |-- mmi: double (nullable = true)\n",
      " |    |    |    |-- net: string (nullable = true)\n",
      " |    |    |    |-- nst: long (nullable = true)\n",
      " |    |    |    |-- place: string (nullable = true)\n",
      " |    |    |    |-- rms: double (nullable = true)\n",
      " |    |    |    |-- sig: long (nullable = true)\n",
      " |    |    |    |-- sources: string (nullable = true)\n",
      " |    |    |    |-- status: string (nullable = true)\n",
      " |    |    |    |-- time: long (nullable = true)\n",
      " |    |    |    |-- title: string (nullable = true)\n",
      " |    |    |    |-- tsunami: long (nullable = true)\n",
      " |    |    |    |-- type: string (nullable = true)\n",
      " |    |    |    |-- types: string (nullable = true)\n",
      " |    |    |    |-- tz: string (nullable = true)\n",
      " |    |    |    |-- updated: long (nullable = true)\n",
      " |    |    |    |-- url: string (nullable = true)\n",
      " |    |    |-- type: string (nullable = true)\n",
      " |-- metadata: struct (nullable = true)\n",
      " |    |-- api: string (nullable = true)\n",
      " |    |-- count: long (nullable = true)\n",
      " |    |-- generated: long (nullable = true)\n",
      " |    |-- status: long (nullable = true)\n",
      " |    |-- title: string (nullable = true)\n",
      " |    |-- url: string (nullable = true)\n",
      " |-- type: string (nullable = true)\n",
      "\n"
     ]
    }
   ],
   "source": [
    "filepath = 'C:/Users/CTW00913-Admin/PycharmProjects/EarthQuake/data/earthquake_raw.json'\n",
    "\n",
    "raw_df = spark.read\\\n",
    "    .option('multiline', 'true')\\\n",
    "    .option('mode', 'PERMISSIVE')\\\n",
    "    .json(filepath)\n",
    "\n",
    "\n",
    "earth_quake_df = raw_df.withColumn('Exp_RESULTS', F.explode(F.col('features')))\\\n",
    "    .drop('features')\\\n",
    "    .select('Exp_RESULTS.geometry.coordinates',\n",
    "           'Exp_RESULTS.id',\n",
    "           'Exp_RESULTS.properties.*')\\\n"
   ]
  },
  {
   "cell_type": "markdown",
   "metadata": {
    "pycharm": {
     "name": "#%% md\n"
    }
   },
   "source": [
    "### Data Analysis"
   ]
  },
  {
   "cell_type": "markdown",
   "metadata": {
    "pycharm": {
     "name": "#%% md\n"
    }
   },
   "source": [
    "#### Data Schema"
   ]
  },
  {
   "cell_type": "code",
   "execution_count": 3,
   "metadata": {
    "pycharm": {
     "name": "#%%\n"
    }
   },
   "outputs": [
    {
     "name": "stdout",
     "output_type": "stream",
     "text": [
      "root\n",
      " |-- coordinates: array (nullable = true)\n",
      " |    |-- element: double (containsNull = true)\n",
      " |-- id: string (nullable = true)\n",
      " |-- alert: string (nullable = true)\n",
      " |-- cdi: double (nullable = true)\n",
      " |-- code: string (nullable = true)\n",
      " |-- detail: string (nullable = true)\n",
      " |-- dmin: double (nullable = true)\n",
      " |-- felt: long (nullable = true)\n",
      " |-- gap: double (nullable = true)\n",
      " |-- ids: string (nullable = true)\n",
      " |-- mag: double (nullable = true)\n",
      " |-- magType: string (nullable = true)\n",
      " |-- mmi: double (nullable = true)\n",
      " |-- net: string (nullable = true)\n",
      " |-- nst: long (nullable = true)\n",
      " |-- place: string (nullable = true)\n",
      " |-- rms: double (nullable = true)\n",
      " |-- sig: long (nullable = true)\n",
      " |-- sources: string (nullable = true)\n",
      " |-- status: string (nullable = true)\n",
      " |-- time: long (nullable = true)\n",
      " |-- title: string (nullable = true)\n",
      " |-- tsunami: long (nullable = true)\n",
      " |-- type: string (nullable = true)\n",
      " |-- types: string (nullable = true)\n",
      " |-- tz: string (nullable = true)\n",
      " |-- updated: long (nullable = true)\n",
      " |-- url: string (nullable = true)\n",
      "\n"
     ]
    }
   ],
   "source": [
    "earth_quake_df.printSchema()"
   ]
  },
  {
   "cell_type": "markdown",
   "metadata": {},
   "source": [
    "#### Null Values\n"
   ]
  },
  {
   "cell_type": "code",
   "execution_count": 4,
   "metadata": {
    "pycharm": {
     "name": "#%%\n"
    }
   },
   "outputs": [
    {
     "name": "stdout",
     "output_type": "stream",
     "text": [
      "coordinates -> 0\n",
      "id -> 0\n",
      "alert -> 178\n",
      "cdi -> 164\n",
      "code -> 0\n",
      "detail -> 0\n",
      "dmin -> 51\n",
      "felt -> 164\n",
      "gap -> 37\n",
      "ids -> 0\n",
      "mag -> 0\n",
      "magType -> 0\n",
      "mmi -> 175\n",
      "net -> 0\n",
      "nst -> 55\n",
      "place -> 0\n",
      "rms -> 0\n",
      "sig -> 0\n",
      "sources -> 0\n",
      "status -> 0\n",
      "time -> 0\n",
      "title -> 0\n",
      "tsunami -> 0\n",
      "type -> 0\n",
      "types -> 0\n",
      "tz -> 178\n",
      "updated -> 0\n",
      "url -> 0\n"
     ]
    }
   ],
   "source": [
    "null_values = {\n",
    "    col: earth_quake_df.filter(earth_quake_df[col].isNull()).count()\n",
    "    for col in earth_quake_df.columns\n",
    "}\n",
    "\n",
    "for key, value in null_values.items():\n",
    "    print(key, '->', value)"
   ]
  },
  {
   "cell_type": "markdown",
   "metadata": {},
   "source": [
    "#### Duplicates"
   ]
  },
  {
   "cell_type": "code",
   "execution_count": 5,
   "metadata": {
    "pycharm": {
     "name": "#%%\n"
    }
   },
   "outputs": [
    {
     "name": "stdout",
     "output_type": "stream",
     "text": [
      "0\n"
     ]
    }
   ],
   "source": [
    "total_rows = earth_quake_df.count()\n",
    "unique_rows = earth_quake_df.distinct().count()\n",
    "duplicates_rows = total_rows - unique_rows\n",
    "\n",
    "print(duplicates_rows)\n"
   ]
  }
 ],
 "metadata": {
  "kernelspec": {
   "display_name": "Python 3",
   "language": "python",
   "name": "python3"
  },
  "language_info": {
   "codemirror_mode": {
    "name": "ipython",
    "version": 3
   },
   "file_extension": ".py",
   "mimetype": "text/x-python",
   "name": "python",
   "nbconvert_exporter": "python",
   "pygments_lexer": "ipython3",
   "version": "3.8.2"
  }
 },
 "nbformat": 4,
 "nbformat_minor": 1
}